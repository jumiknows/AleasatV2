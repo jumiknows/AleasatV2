{
 "cells": [
  {
   "cell_type": "code",
   "execution_count": null,
   "metadata": {},
   "outputs": [],
   "source": [
    "import logging\n",
    "\n",
    "import matplotlib.pyplot as plt\n",
    "\n",
    "from alea.sim.epa.orbit_dynamics import OrbitDynamicsModel\n",
    "from alea.sim.kernel.kernel import AleasimKernel\n"
   ]
  },
  {
   "cell_type": "code",
   "execution_count": null,
   "metadata": {},
   "outputs": [],
   "source": [
    "logging.basicConfig(level=logging.INFO)\n",
    "\n",
    "kernel = AleasimKernel(dt=10,date=2024.0)\n",
    "odyn = OrbitDynamicsModel(kernel)\n",
    "kernel.add_model(odyn, True)\n",
    "\n",
    "kernel.advance(10000)\n",
    "\n",
    "kernel.kill()"
   ]
  },
  {
   "cell_type": "code",
   "execution_count": null,
   "metadata": {},
   "outputs": [],
   "source": [
    "print(f'data elements: {odyn.saved_state_element_names}')\n",
    "fig = plt.figure()\n",
    "ax = fig.add_subplot(projection='3d')\n",
    "ax.scatter(odyn.state_array[:,0],odyn.state_array[:,1], odyn.state_array[:,2])\n",
    "ax.set_xlabel('X ECI [m]')\n",
    "ax.set_ylabel('Y ECI [m]')\n",
    "ax.set_zlabel('Z ECI [m]')\n",
    "plt.show()\n",
    "\n",
    "plt.title(\"ECI Position\")\n",
    "objs = plt.plot(odyn.time_array, odyn.state_array[:,0:3])\n",
    "plt.legend(iter(objs), tuple(odyn.saved_state_element_names[0:3]))\n",
    "plt.xlabel('Time (s)')\n",
    "plt.show()\n",
    "\n",
    "plt.title(\"ECI Velocity\")\n",
    "objs = plt.plot(odyn.time_array, odyn.state_array[:,3:6])\n",
    "plt.legend(iter(objs), tuple(odyn.saved_state_element_names[3:6]))\n",
    "plt.xlabel('Time (s)')\n",
    "plt.show()\n",
    "\n",
    "plt.title(\"Lon, Lat\")\n",
    "objs = plt.plot(odyn.time_array, odyn.state_array[:,6:8])\n",
    "plt.legend(iter(objs), tuple(odyn.saved_state_element_names[6:8]))\n",
    "plt.xlabel('Time (s)')\n",
    "plt.show()\n",
    "\n",
    "plt.title(\"WGS84 Altitude\")\n",
    "plt.plot(odyn.time_array, odyn.state_array[:,8])\n",
    "plt.xlabel('Time (s)')\n",
    "plt.show()\n",
    "\n",
    "plt.title(\"Eclipse Boolean\")\n",
    "plt.plot(odyn.time_array, odyn.state_array[:,16])\n",
    "plt.xlabel('Time (s)')\n",
    "plt.show()"
   ]
  }
 ],
 "metadata": {
  "kernelspec": {
   "display_name": "aleasim-uAL0RtV1",
   "language": "python",
   "name": "python3"
  },
  "language_info": {
   "codemirror_mode": {
    "name": "ipython",
    "version": 3
   },
   "file_extension": ".py",
   "mimetype": "text/x-python",
   "name": "python",
   "nbconvert_exporter": "python",
   "pygments_lexer": "ipython3",
   "version": "3.10.8"
  }
 },
 "nbformat": 4,
 "nbformat_minor": 2
}
