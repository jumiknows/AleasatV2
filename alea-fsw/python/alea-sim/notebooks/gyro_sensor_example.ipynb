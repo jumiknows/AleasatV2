{
 "cells": [
  {
   "cell_type": "markdown",
   "metadata": {},
   "source": [
    "# Gyro Sensor Example"
   ]
  },
  {
   "cell_type": "code",
   "execution_count": null,
   "metadata": {},
   "outputs": [],
   "source": [
    "%load_ext autoreload\n",
    "%autoreload 2\n",
    "\n",
    "from alea.sim.epa.disturbance_model import DisturbanceModel\n",
    "from alea.sim.math_lib import Quaternion\n",
    "\n",
    "import logging\n",
    "\n",
    "import alea.sim\n",
    "import numpy as np\n",
    "import scipy as sp\n",
    "import skyfield\n",
    "\n",
    "from datetime import datetime\n",
    "import time\n",
    "from alea.sim.epa.earth_magnetic_field import EarthMagneticFieldModel\n",
    "from alea.sim.epa.attitude_dynamics import AttitudeDynamicsModel\n",
    "from alea.sim.epa.orbit_dynamics import OrbitDynamicsModel\n",
    "from alea.sim.kernel.kernel import AleasimKernel\n",
    "from alea.sim.spacecraft.spacecraft import Spacecraft\n",
    "import matplotlib.pyplot as plt\n",
    "import logging\n",
    "import cProfile\n",
    "import pstats\n",
    "from pstats import SortKey\n",
    "from matplotlib import pyplot as plt\n",
    "import skyfield.sgp4lib\n",
    "\n",
    "from typing import Dict\n",
    "\n",
    "import numpy as np\n",
    "\n",
    "\n",
    "from alea.sim.kernel.frames import ReferenceFrame, FrameTransformation\n",
    "from alea.sim.spacecraft.actuators.simple_actuators import SimpleActuator, SimpleMagnetorquer\n",
    "from alea.sim.spacecraft.sensors import SimpleMagSensor, SimpleSunSensor, GyroSensor\n",
    "\n",
    "from alea.sim.spacecraft.eps.solar_panel import SolarPanelModel\n",
    "from alea.sim.spacecraft.eps.power_system import PowerSystemModel\n",
    "from alea.sim.spacecraft.eps.eps import EPSModel\n",
    "\n",
    "logging.basicConfig(level=logging.INFO)"
   ]
  },
  {
   "cell_type": "code",
   "execution_count": null,
   "metadata": {},
   "outputs": [],
   "source": [
    "%load_ext autoreload\n",
    "%autoreload 2\n",
    "\n",
    "sim_dt=1e-3 #s\n",
    "control_dt=0.1 #s\n",
    "duration=100.0 #s\n",
    "st=0.284e-3 #Nm\n",
    "sm=0 #Am^2\n",
    "\n",
    "\n",
    "control_sample_rate = int(1/control_dt)\n",
    "kernel = AleasimKernel(dt=sim_dt, date=2024.2)\n",
    "\n",
    "adyn = AttitudeDynamicsModel(kernel)\n",
    "odyn = OrbitDynamicsModel(kernel)\n",
    "\n",
    "magm = EarthMagneticFieldModel(kernel)\n",
    "\n",
    "rwx = SimpleActuator('rw_x', kernel, st)\n",
    "rwy = SimpleActuator('rw_y', kernel, st)\n",
    "rwz = SimpleActuator('rw_z', kernel, st)\n",
    "\n",
    "mtqx = SimpleMagnetorquer('mtq_x',kernel, sm)\n",
    "mtqy = SimpleMagnetorquer('mtq_y',kernel, sm)\n",
    "mtqz = SimpleMagnetorquer('mtq_z',kernel, sm)\n",
    "\n",
    "sc = Spacecraft(kernel, ctrl_sample_period=control_dt)\n",
    "\n",
    "power_sys = PowerSystemModel(kernel)\n",
    "\n",
    "solar_panels: list[SolarPanelModel] = power_sys.solar_panels\n",
    "eps = power_sys.eps\n",
    "eps._force_state_of_charge(50)\n",
    "\n",
    "DModel = DisturbanceModel(kernel)\n",
    "\n",
    "mag_sens = SimpleMagSensor('mag_sens', kernel, sample_rate=control_sample_rate)\n",
    "sun_sens = SimpleSunSensor('sun_sens', kernel, sample_rate=control_sample_rate)\n",
    "gyro = GyroSensor('gyro', kernel, sample_rate=control_sample_rate)\n",
    "kernel.add_model(rwx)\n",
    "kernel.add_model(rwy)\n",
    "kernel.add_model(rwz)\n",
    "kernel.add_model(mtqx)\n",
    "kernel.add_model(mtqy)\n",
    "kernel.add_model(mtqz)\n",
    "kernel.add_model(sc)\n",
    "kernel.add_model(magm)\n",
    "kernel.add_model(odyn)\n",
    "kernel.add_model(adyn)\n",
    "kernel.add_model(DModel)\n",
    "kernel.add_model(mag_sens)\n",
    "kernel.add_model(sun_sens)\n",
    "kernel.add_model(gyro)\n",
    "kernel.add_model(power_sys)\n",
    "\n",
    "adyn.set_state(np.array([0.1,0.756,0.1,0,0,0,0.0]))\n",
    "sc._use_quest = True\n",
    "\n",
    "kernel.advance(duration)\n",
    "\n",
    "kernel.kill()"
   ]
  },
  {
   "cell_type": "markdown",
   "metadata": {},
   "source": [
    "## Rate Random Walk\n",
    "\n",
    "Rate random walk is defined as a bias drift caused by accumulating white noise. It is an error source of the gyro that is time-dependent. That is, it builds up over time. Below we graph out the results from the simulation done with a \"long time\"."
   ]
  },
  {
   "cell_type": "code",
   "execution_count": null,
   "metadata": {},
   "outputs": [],
   "source": [
    "objs = plt.plot(gyro.time_array, gyro.state_array[:, 8:11])\n",
    "plt.title(\"RRW build-up\")\n",
    "plt.legend(iter(objs), tuple(adyn.saved_state_element_names[7:10]))\n",
    "plt.ylabel('rad/s')\n",
    "plt.xlabel('Time (s)')\n",
    "plt.show()\n"
   ]
  },
  {
   "cell_type": "markdown",
   "metadata": {},
   "source": [
    "## Angular Random Walk\n",
    "\n",
    "This is the bias noise from angular random walk, which is a value given in the data sheet. It is related to the square root of the sampling rate."
   ]
  },
  {
   "cell_type": "code",
   "execution_count": null,
   "metadata": {},
   "outputs": [],
   "source": [
    "objs = plt.plot(gyro.time_array, gyro.state_array[:, 11:14])\n",
    "plt.title(\"ARW values\")\n",
    "plt.legend(iter(objs), tuple(adyn.saved_state_element_names[7:10]))\n",
    "plt.ylabel('rad/s')\n",
    "plt.xlabel('Time (s)')\n",
    "plt.show()"
   ]
  }
 ],
 "metadata": {
  "kernelspec": {
   "display_name": ".venv",
   "language": "python",
   "name": "python3"
  },
  "language_info": {
   "codemirror_mode": {
    "name": "ipython",
    "version": 3
   },
   "file_extension": ".py",
   "mimetype": "text/x-python",
   "name": "python",
   "nbconvert_exporter": "python",
   "pygments_lexer": "ipython3",
   "version": "3.12.6"
  }
 },
 "nbformat": 4,
 "nbformat_minor": 2
}
