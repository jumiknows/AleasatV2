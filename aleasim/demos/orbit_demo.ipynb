{
 "cells": [
  {
   "cell_type": "code",
   "execution_count": null,
   "metadata": {},
   "outputs": [],
   "source": [
    "import aleasim\n",
    "import numpy as np\n",
    "import scipy as sp\n",
    "import skyfield\n",
    "\n",
    "from datetime import datetime\n",
    "import time\n",
    "from aleasim.epa.magnetic_field_model import EarthMagneticFieldModel\n",
    "from aleasim.epa.attitude_dynamics import AttitudeDynamicsModel\n",
    "from aleasim.epa.orbit_dynamics import OrbitDynamicsModel\n",
    "from aleasim.kernel.kernel import AleasimKernel\n",
    "\n",
    "from aleasim.spacecraft.spacecraft import Spacecraft\n",
    "import matplotlib.pyplot as plt\n",
    "import logging\n",
    "import cProfile\n",
    "import pstats\n",
    "from pstats import SortKey\n",
    "from matplotlib import pyplot as plt\n",
    "import skyfield.sgp4lib"
   ]
  },
  {
   "cell_type": "code",
   "execution_count": null,
   "metadata": {},
   "outputs": [],
   "source": [
    "logging.basicConfig(level=logging.INFO)\n",
    "\n",
    "kernel = AleasimKernel(dt=10)\n",
    "# kernel.scheduler._debug_realtime = True\n",
    "\n",
    "# adyn = AttitudeDynamicsModel(kernel)\n",
    "# adyn.set_state(np.array([1,0,0,0,25.0,3.0,1e-3]))\n",
    "odyn = OrbitDynamicsModel(kernel)\n",
    "\n",
    "magm = EarthMagneticFieldModel(kernel)\n",
    "\n",
    "kernel.add_model(odyn, True)\n",
    "# kernel.add_model(adyn, True)\n",
    "kernel.add_model(magm)\n",
    "\n",
    "# adyn._integrator_type = \"rk45\"\n",
    "\n",
    "kernel.advance(10000)\n",
    "\n",
    "kernel.kill()"
   ]
  },
  {
   "cell_type": "code",
   "execution_count": null,
   "metadata": {},
   "outputs": [],
   "source": [
    "fig = plt.figure()\n",
    "ax = fig.add_subplot(projection='3d')\n",
    "ax.scatter(odyn.state_array[:,0],odyn.state_array[:,1], odyn.state_array[:,2])\n",
    "ax.set_xlabel('X ECI [m]')\n",
    "ax.set_ylabel('Y ECI [m]')\n",
    "ax.set_zlabel('Z ECI [m]')\n",
    "plt.show()\n",
    "\n",
    "plt.title(\"ECI Position\")\n",
    "objs = plt.plot(odyn.state_array[:,0:3])\n",
    "plt.legend(iter(objs), tuple(odyn.saved_state_element_names[0:3]))\n",
    "\n",
    "plt.title(\"ECI Velocity\")\n",
    "objs = plt.plot(odyn.state_array[:,3:6])\n",
    "plt.legend(iter(objs), tuple(odyn.saved_state_element_names[3:6]))\n",
    "plt.show()\n",
    "\n",
    "plt.title(\"Lon, Lat\")\n",
    "objs = plt.plot(odyn.state_array[:,6:8])\n",
    "plt.legend(iter(objs), tuple(odyn.saved_state_element_names[6:8]))\n",
    "plt.show()\n",
    "\n",
    "plt.title(\"WGS84 Altitude\")\n",
    "plt.plot(odyn.state_array[:,8])\n",
    "plt.show()"
   ]
  }
 ],
 "metadata": {
  "kernelspec": {
   "display_name": "aleasim-uAL0RtV1",
   "language": "python",
   "name": "python3"
  },
  "language_info": {
   "codemirror_mode": {
    "name": "ipython",
    "version": 3
   },
   "file_extension": ".py",
   "mimetype": "text/x-python",
   "name": "python",
   "nbconvert_exporter": "python",
   "pygments_lexer": "ipython3",
   "version": "3.10.12"
  }
 },
 "nbformat": 4,
 "nbformat_minor": 2
}
