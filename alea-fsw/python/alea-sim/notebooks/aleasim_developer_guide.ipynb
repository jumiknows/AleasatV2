{
 "cells": [
  {
   "cell_type": "markdown",
   "metadata": {},
   "source": [
    "# Aleasim Developer Guide\n",
    "* Author : Yousif El-Wishahy (yousif.elwishahy@ubcorbit.com)\n",
    "* Date: 2024-08-06\n",
    "* Aleasim Design Document: https://docs.google.com/document/d/13W0VLFCf4jPUaaTYP6YeOesYwN5_omOXdhjFnd8Qf2M/edit"
   ]
  },
  {
   "cell_type": "markdown",
   "metadata": {},
   "source": [
    "# Aleasim Basics\n",
    "The following guide and code cells assume you have configured the developer environment properly and have all packages installed.\n",
    "Ensure that the interpreter of this Jupyter notebook is set to the aleasim poetry environment."
   ]
  },
  {
   "cell_type": "markdown",
   "metadata": {},
   "source": [
    "### Kernel and Model Creation"
   ]
  },
  {
   "cell_type": "code",
   "execution_count": null,
   "metadata": {},
   "outputs": [],
   "source": [
    "#IMPORTS\n",
    "#import the aleasim package\n",
    "import alea.sim\n",
    "\n",
    "#alternatively (reccomended), import specific modules from the package\n",
    "from alea.sim.kernel.kernel import AleasimKernel"
   ]
  },
  {
   "cell_type": "markdown",
   "metadata": {},
   "source": [
    "The aleasim.kernel.kernel.AleasimKernel class is responsible for startup/shutdown, connecting all the models, advancing the simulation time, and providing utility classes. The kernel manages simulation time and holds references to the Scheduler and FrameManager classes which handle simulation events and spatial transformations. \n",
    "\n",
    "Most importantly, the kernel holds a reference to “root” which is the root model of the simulation. The root model can be any class that implements AbstractModel, however, for simplicity the root model does nothing but contain other models. A class named AleasimRootModel implements AbstractModel."
   ]
  },
  {
   "cell_type": "code",
   "execution_count": null,
   "metadata": {},
   "outputs": [],
   "source": [
    "#A simulation that has no models\n",
    "\n",
    "kernel = AleasimKernel()"
   ]
  },
  {
   "cell_type": "markdown",
   "metadata": {},
   "source": [
    "We just instantiated a kernel. Let's add some models."
   ]
  },
  {
   "cell_type": "code",
   "execution_count": null,
   "metadata": {},
   "outputs": [],
   "source": [
    "#adding attitude dynamics to the kernel\n",
    "from alea.sim.epa.attitude_dynamics import AttitudeDynamicsModel\n",
    "from alea.sim.epa.orbit_dynamics import OrbitDynamicsModel\n",
    "\n",
    "#first create the model object\n",
    "#you must give it a name, and pass a reference of the kernel to it\n",
    "adyn: AttitudeDynamicsModel = AttitudeDynamicsModel(kernel)\n",
    "\n",
    "#at this point, the models __init__() and configure() functions should have been called.\n",
    "\n",
    "#next you can add the model to the kernel\n",
    "#you can optionally specify to create memory for it to store its state data in\n",
    "kernel.add_model(adyn, create_shared_mem=True)\n",
    "\n",
    "#now add orbital dynamics\n",
    "odyn = OrbitDynamicsModel(kernel)\n",
    "kernel.add_model(odyn, create_shared_mem=True)\n",
    "\n",
    "kernel.step()\n"
   ]
  },
  {
   "cell_type": "markdown",
   "metadata": {},
   "source": [
    "A couple of things just happened after we added an AttitudeDynamicsModel to the simulation:\n",
    "* Attitude dynamics and orbital dynamics loaded configurations from files in `aleasim/aleasim/configuration/` , if you ever create a new model you should be adding configuration files in there\n",
    "* Shared memory was created in attitude dynamics\n",
    "\n",
    "FrameManager is a class that handles reference frame updates, it requires knowledge from orbit dynamics and attitude dynamics to get information for the transformations."
   ]
  },
  {
   "cell_type": "markdown",
   "metadata": {},
   "source": [
    "### Logging"
   ]
  },
  {
   "cell_type": "markdown",
   "metadata": {},
   "source": [
    "Now that orbit dynamics is added, the frame manager is happily logging all the frame transformations between the different frames.\n",
    "\n",
    "Sometimes logs can be excessive, logging level can be set on a model by model basis."
   ]
  },
  {
   "cell_type": "code",
   "execution_count": null,
   "metadata": {},
   "outputs": [],
   "source": [
    "import logging\n",
    "\n",
    "#set logging levels for different components\n",
    "kernel.frame_manager.logger.setLevel(logging.INFO)\n",
    "adyn.logger.setLevel(logging.DEBUG)\n",
    "odyn.logger.setLevel(logging.DEBUG)\n",
    "\n",
    "kernel.step()"
   ]
  },
  {
   "cell_type": "markdown",
   "metadata": {},
   "source": [
    "We are still getting debug info for the dynamics models, but the frame manager is now silent."
   ]
  },
  {
   "cell_type": "code",
   "execution_count": null,
   "metadata": {},
   "outputs": [],
   "source": [
    "print('we should see no prints after this')\n",
    "adyn.logger.setLevel(logging.INFO)\n",
    "odyn.logger.setLevel(logging.INFO)\n",
    "kernel.step()\n",
    "\n",
    "\n",
    "adyn.logger.setLevel(logging.DEBUG)\n",
    "odyn.logger.setLevel(logging.DEBUG)\n",
    "print('we should see some prints after this')\n",
    "kernel.step()\n",
    "\n",
    "adyn.logger.setLevel(logging.INFO)\n",
    "odyn.logger.setLevel(logging.INFO)"
   ]
  },
  {
   "cell_type": "markdown",
   "metadata": {},
   "source": [
    "### The Scheduler and Events\n",
    "\n",
    "The Scheduler (aleasim.kernel.scheduler.Scheduler) is a generic interface for scheduling events. An instance of the scheduler is managed by the AleasimKernel and all children models register events to it.\n",
    "\n",
    "Each update event that was logged previously is a registered event in the scheduler. When we call kernel.step() the schedule executes all events at that timestep. \n",
    "\n",
    "An event in this context is a Dataclass containing some metadata: (time, priority, sequence, action, period, argument ).\n",
    "time - simulator time to execute event at\n",
    "priority - events scheduled for the same time will be executed in the order of their priority\n",
    "sequence - A continually increasing sequence number that  separates events if time and priority are equal\n",
    "period - Time offset for next periodic event, if -1 will assume not periodic.\n",
    "action - Executing the event means executing action(*argument, **kwargs)\n",
    "argument -  a sequence holding the positional arguments for the action.\n",
    "\n",
    "At its core the scheduler maintains a queue of ordered events (based on time -> priority -> sequence number). The key point is that “Executing the event means executing action(*argument, **kwargs)”. The general way that events should be used in the simulation is to schedule periodic events to the update function of the model, or schedule one-time events when needed based on logic. The scheduler is permitted to run while events can be added to the queue. For now this scheduler is designed to run in a single-threaded, single-process manner, but in general can support multiple threads.\n",
    "\n",
    "Lets look at the pending events!"
   ]
  },
  {
   "cell_type": "code",
   "execution_count": null,
   "metadata": {},
   "outputs": [],
   "source": [
    "#print the scheduler event queue\n",
    "print(f'length of event queue is {len(kernel.scheduler.queue)}')\n",
    "print(kernel.scheduler.queue)"
   ]
  },
  {
   "cell_type": "markdown",
   "metadata": {},
   "source": [
    "You should see that the next event in the queue `Event(time=6, priority=10, is_periodic=True, period=1, action=<bound method FrameManager.update_frames of <aleasim.kernel.frame_manager.FrameManager object at 0xsomeRamLocation>>`\n",
    "\n",
    "But we can add more events:\n"
   ]
  },
  {
   "cell_type": "code",
   "execution_count": null,
   "metadata": {},
   "outputs": [],
   "source": [
    "def test_event_function():\n",
    "    print(\"test event!\")\n",
    "\n",
    "#schedule an function event to execute immediately with a priority of 1, and only execute once\n",
    "kernel.schedule_event(delay=0, priority=1, action=test_event_function)\n",
    "\n",
    "#we should see a printout now\n",
    "kernel.step()\n"
   ]
  },
  {
   "cell_type": "markdown",
   "metadata": {},
   "source": [
    "### Simulation Time"
   ]
  },
  {
   "cell_type": "code",
   "execution_count": null,
   "metadata": {},
   "outputs": [],
   "source": [
    "#we can call kernel.advance to advance simulation time for x seconds\n",
    "\n",
    "#advance for 0.1 seconds\n",
    "kernel.advance(0.1)\n",
    "\n",
    "#simulation timestep\n",
    "print(f'simulation timestep is {kernel.timestep} s')\n",
    "\n",
    "#simulation seconds since start\n",
    "print(f'simualtion time in seconds is {kernel.time}')\n",
    "\n",
    "#the float time has floating point error\n",
    "#internally, integers are used\n",
    "print(f'simulation integer time is {kernel._t_n} (multiples of timestep)')\n",
    "\n",
    "#simulation date in utc\n",
    "print(f'simulation date is {kernel.date}')\n",
    "\n",
    "#skyfield epoch time is used by the simulation for computing planet locations\n",
    "print(f'simulation skyfield epoch time is {kernel.skyfield_time}')\n"
   ]
  },
  {
   "cell_type": "markdown",
   "metadata": {},
   "source": [
    "## Model Development Example\n",
    "\n",
    "Let's take a quick look at creating a basic dummy magnetic sensor model.\n",
    "\n",
    "We want it to do 2 things\n",
    "* power on/off and consume power\n",
    "* report magnetic field value with some constant bias\n",
    "\n",
    "Let's grab a section from the design doc:\n",
    "\n",
    "#### Abstract Model\n",
    "The core Aleasim model is the AbstractModel which has some generic functionalities that will be inherited by all models. This functionality includes generic functions for logging, configuring and connecting models, updating the model state, and containing children models. All AbstractModels also hold a reference to the kernel and scheduler.\n",
    "\n",
    "\n",
    "Methods that all inheriting classes must implement:\n",
    "* connect\n",
    "connect models to each other, and obtain references to attributes of other models. This function may return an error if the parent is undefined or if a model is missing from the tree. A design choice was made for the kernel to be responsible for calling this method.\n",
    "\n",
    "Properties that all inheriting classes must implement:\n",
    "* config_name\n",
    "File name prefix used to search for config files.\n",
    "\n",
    "#### Dynamic Model\n",
    "Inherits AbstractModel, contains functionality for linear or nonlinear state update function and numerical integration of the state update functions\n",
    "\n",
    "#### Powered Unit Model\n",
    "Functionality for a powered unit that turns on/off and consumes power.\n"
   ]
  },
  {
   "cell_type": "code",
   "execution_count": null,
   "metadata": {},
   "outputs": [],
   "source": [
    "#based on the docs, we want to \n",
    "# 1. inherit powered unit which inherits abstract model\n",
    "# 3. obtain magnetic field data somehow\n",
    "# 4. write a sensor output function\n",
    "\n",
    "#first import abstract model\n",
    "from alea.sim.kernel.generic.abstract_model import AbstractModel\n",
    "from alea.sim.kernel.generic.powered_unit_model import PoweredUnitModel\n",
    "\n",
    "#magnetic field model\n",
    "from alea.sim.epa.magnetic_field_model import EarthMagneticFieldModel\n",
    "from alea.sim.kernel.kernel import AleasimKernel\n",
    "\n",
    "#frame imports\n",
    "from alea.sim.kernel.frames import ReferenceFrame\n",
    "from alea.sim.kernel.frame_manager import FrameManager\n",
    "\n",
    "#numpy for vector math\n",
    "import numpy as np\n",
    "\n",
    "from math import degrees\n",
    "class MagSensorModel(PoweredUnitModel):\n",
    "    \"\"\"\n",
    "    Simple mag sensor that returns the local magnetic field to the spacecraft with some bias added to it.\n",
    "    \"\"\"   \n",
    "    \n",
    "    def __init__(self, name: str, sim_kernel: AleasimKernel, power_usage: float = 0) -> None:\n",
    "        super().__init__(name, sim_kernel, power_usage)\n",
    "        \n",
    "        #sensor frame\n",
    "        #use the sim body frame as the sensor frame\n",
    "        self._frame_manager: FrameManager = self.kernel._frame_manager\n",
    "        self._frame = self._frame_manager.body_frame\n",
    "        \n",
    "        self._constant_bias: np.ndarray = np.ones(3)*2.73e-8\n",
    "        \n",
    "        #magnetic field ground truth model\n",
    "        #remember to grab models in connect()\n",
    "        self._magm: EarthMagneticFieldModel = None\n",
    "        \n",
    "        #we also need spacecraft coordinates for magnetic field value\n",
    "        self._odyn : OrbitDynamicsModel = None\n",
    "\n",
    "    @property\n",
    "    def config_name(self) -> str:\n",
    "        #dummy value for now\n",
    "        return 'magnetic_sensor'\n",
    "\n",
    "    def connect(self):\n",
    "        #grab the magnetic field model\n",
    "        self._magm = self.kernel.get_model(EarthMagneticFieldModel)\n",
    "        self._odyn = self.kernel.get_model(OrbitDynamicsModel)\n",
    "    \n",
    "    #custom function\n",
    "    def measure(self) -> np.ndarray:\n",
    "        #get spacecraft lla coords [lon radians, lat radians, altitude  km]\n",
    "        lla = odyn.position_lonlat\n",
    "        #convert lon and lat to degrees from radians\n",
    "        lla[0] = degrees(lla[0])\n",
    "        lla[1] = degrees(lla[1])\n",
    "\n",
    "        #get the magnetic field vector in NED frame\n",
    "        mag_ned = self._magm.get_mag_vector(lla)\n",
    "        \n",
    "        #transform from ned to desired frame\n",
    "        mag_sens = self._frame.transform_vector_from_frame(mag_ned, self._frame_manager.ned_frame)\n",
    "        \n",
    "        #add a contant bias to it\n",
    "        mag_sens += self._constant_bias\n",
    "        \n",
    "        return mag_sens\n"
   ]
  },
  {
   "cell_type": "markdown",
   "metadata": {},
   "source": [
    "We now have a basic sensor class `MagSensorModel` lets try to add it to the simulation."
   ]
  },
  {
   "cell_type": "code",
   "execution_count": null,
   "metadata": {},
   "outputs": [],
   "source": [
    "magsense = MagSensorModel('mag_sensor', kernel, power_usage=1e-3)\n",
    "\n",
    "kernel.add_model(magsense)"
   ]
  },
  {
   "cell_type": "markdown",
   "metadata": {},
   "source": [
    "Let's try to step the simulation and measure the sensor."
   ]
  },
  {
   "cell_type": "code",
   "execution_count": null,
   "metadata": {},
   "outputs": [],
   "source": [
    "try:\n",
    "    kernel.step()\n",
    "except Exception as errmsg:\n",
    "    print(errmsg)"
   ]
  },
  {
   "cell_type": "markdown",
   "metadata": {},
   "source": [
    "Aha! We forgot to do one thing... `MagSensorModel` searches for `EarthMagneticFieldModel` but the simulation has no such model ... yet."
   ]
  },
  {
   "cell_type": "code",
   "execution_count": null,
   "metadata": {},
   "outputs": [],
   "source": [
    "#add magnetic field model\n",
    "magm = EarthMagneticFieldModel(kernel)\n",
    "kernel.add_model(magm)\n",
    "\n",
    "#force call connect again to find the magnetic model\n",
    "magsense.connect()\n",
    "\n",
    "#now try stepping\n",
    "kernel.step()\n",
    "\n",
    "#print a measurement\n",
    "print(f'**********\\nmag sensor measurement: {magsense.measure()} nT\\n**********')"
   ]
  },
  {
   "cell_type": "code",
   "execution_count": null,
   "metadata": {},
   "outputs": [],
   "source": [
    "print(f'spacecraft position in eci [m] is {odyn.position_eci}')"
   ]
  },
  {
   "cell_type": "markdown",
   "metadata": {},
   "source": [
    "Note that we haven't used any of the power logic yet. If we like we could allow it so that the measurement is only valid if the unit is powered on. I leave at as an exercise for the reader. For now here's an example of the inherited power functions."
   ]
  },
  {
   "cell_type": "code",
   "execution_count": null,
   "metadata": {},
   "outputs": [],
   "source": [
    "print(magsense.powered_state)\n",
    "\n",
    "magsense.power_on()\n",
    "\n",
    "print(magsense.current_power_usage)\n",
    "print(magsense._power_on_time)"
   ]
  },
  {
   "cell_type": "markdown",
   "metadata": {},
   "source": [
    "### Shared Memory Implementation\n",
    "\n",
    "If we want to plot model data, we must first implement it as a shared memory model using the `SharedMemoryModelInterface`.\n",
    "\n",
    "As of aleasimv0.1, you only need to implement two attributes of `SharedMemoryModelInterface`:\n",
    "```python\n",
    "    @property\n",
    "    @abc.abstractmethod\n",
    "    def saved_state_size(self) -> int:\n",
    "        \"\"\"\n",
    "        This method must be implemented by inheriting subclass.\n",
    "        length of a single chunk for model datastorage, typically composed of float64s\n",
    "        this information is relevant to shared memory\n",
    "        \"\"\"\n",
    "        raise NotImplementedError\n",
    "\n",
    "    @property\n",
    "    @abc.abstractmethod\n",
    "    def saved_state_element_names(self) -> list[str]:\n",
    "        \"\"\"\n",
    "        This method must be implemented by inheriting subclass.\n",
    "        list of names for each element in the saved state\n",
    "        \"\"\"\n",
    "        raise NotImplementedError\n",
    "```\n",
    "\n",
    "Let's look at an implementation of the sensor but with a shared memory feature. Pay attention the the `saved_state_size` and `saved_state_element_names` properties and the `measure` function, as only those need to change."
   ]
  },
  {
   "cell_type": "code",
   "execution_count": null,
   "metadata": {},
   "outputs": [],
   "source": [
    "#import SharedMemoryModelInterface\n",
    "from alea.sim.kernel.kernel import SharedMemoryModelInterface\n",
    "\n",
    "#lets redfined our sensor class\n",
    "#now it inerits both PoweredUnitModel and SharedMemoryModelInterface\n",
    "class MagSensorModelWithMemory(PoweredUnitModel, SharedMemoryModelInterface):\n",
    "    \"\"\"\n",
    "    Simple mag sensor that returns the local magnetic field to the spacecraft with some bias added to it.\n",
    "    \"\"\"   \n",
    "    \n",
    "    def __init__(self, name: str, sim_kernel: AleasimKernel, power_usage: float = 0) -> None:\n",
    "        super().__init__(name, sim_kernel, power_usage)\n",
    "        \n",
    "        #sensor frame\n",
    "        #use the sim body frame as the sensor frame\n",
    "        self._frame_manager: FrameManager = self.kernel._frame_manager\n",
    "        self._frame = self._frame_manager.body_frame\n",
    "        \n",
    "        self._constant_bias: np.ndarray = np.ones(3)*2.73e-8\n",
    "        \n",
    "        #magnetic field ground truth model\n",
    "        #remember to grab models in connect()\n",
    "        self._magm: EarthMagneticFieldModel = None\n",
    "        \n",
    "        #we also need spacecraft coordinates for magnetic field value\n",
    "        self._odyn : OrbitDynamicsModel = None\n",
    "        \n",
    "    #implement the shared memory attribute\n",
    "    @property\n",
    "    def saved_state_size(self) -> int:\n",
    "        #each sensor measurement we want is a vector of length 3\n",
    "        return 3\n",
    "\n",
    "    @property\n",
    "    def saved_state_element_names(self) -> list[str]:\n",
    "        return ['mx', 'my', 'mz']\n",
    "\n",
    "    @property\n",
    "    def config_name(self) -> str:\n",
    "        #dummy value for now\n",
    "        return 'magnetic_sensor'\n",
    "\n",
    "    def connect(self):\n",
    "        #grab the magnetic field model\n",
    "        self._magm = self.kernel.get_model(EarthMagneticFieldModel)\n",
    "        self._odyn = self.kernel.get_model(OrbitDynamicsModel)\n",
    "\n",
    "    \n",
    "    #custom function\n",
    "    #MODIFIED TO SAVE A MEMORY CHUNK\n",
    "    def measure(self) -> np.ndarray:\n",
    "        #get spacecraft lla coords [lon radians, lat radians, altitude  km]\n",
    "        lla = odyn.position_lonlat\n",
    "        #convert lon and lat to degrees from radians\n",
    "        lla[0] = degrees(lla[0])\n",
    "        lla[1] = degrees(lla[1])\n",
    "\n",
    "        #get the magnetic field vector in NED frame\n",
    "        mag_ned = self._magm.get_mag_vector(lla)\n",
    "        \n",
    "        #transform from ned to desired frame\n",
    "        mag_sens = self._frame.transform_vector_from_frame(mag_ned, self._frame_manager.ned_frame)\n",
    "        \n",
    "        #add a contant bias to it\n",
    "        mag_sens += self._constant_bias\n",
    "        \n",
    "        #lets also save this chunk to memory now\n",
    "        self.save_chunk_to_memory(mag_sens)\n",
    "        \n",
    "        return mag_sens\n"
   ]
  },
  {
   "cell_type": "code",
   "execution_count": null,
   "metadata": {},
   "outputs": [],
   "source": [
    "#lets try add it to the kernel\n",
    "\n",
    "magsense2 = MagSensorModelWithMemory('magsense2', kernel, power_usage=1e-3)\n",
    "\n",
    "#you must set create_shared_mem to True, it is off by default\n",
    "kernel.add_model(magsense2, create_shared_mem=True)\n",
    "\n",
    "print(f'magsense2 shared array: {magsense2.state_array}')\n",
    "\n",
    "kernel.step()\n",
    "magsense2.measure()\n",
    "\n",
    "print(f'magsense2 shared array after measure: {magsense2.state_array}')"
   ]
  },
  {
   "cell_type": "markdown",
   "metadata": {},
   "source": [
    "## Plotting and Analysis\n",
    "\n",
    "Now that we have created shared memory, lets look at some attitude date.\n",
    "\n",
    "The attitude dynamics model describes the state vector which it saves to shared memory as \n",
    "\n",
    "```\n",
    "    The spacecraft attitude state is is a 7 element vector composed of\n",
    "    - quaternion elements (4) (rotation of body frame w.r.t inertial frame)\n",
    "    - body angular rates (3) (angular velocity of body frame w.r.t inertial frame)\n",
    "```\n",
    "\n",
    "This gives us enough information to print some elements."
   ]
  },
  {
   "cell_type": "code",
   "execution_count": null,
   "metadata": {},
   "outputs": [],
   "source": [
    "import matplotlib.pyplot as plt\n",
    "\n",
    "#first run the kernel for a few seconds\n",
    "#recall the timestep is 0.001\n",
    "kernel.advance(2)\n",
    "\n",
    "#plot only 1000 values\n",
    "n = 1000\n",
    "\n",
    "objs = plt.plot(adyn.state_array[:n,0:4])\n",
    "plt.title(\"Quaternion Elements\")\n",
    "plt.legend(iter(objs), ('q0', 'q1', 'q2', 'q3'))\n",
    "plt.show()\n",
    "\n",
    "objs = plt.plot(adyn.state_array[:n,4:7])\n",
    "plt.title(\"Angular Rates\")\n",
    "plt.legend(iter(objs), ('w1', 'w2', 'w3'))\n",
    "plt.show()"
   ]
  },
  {
   "cell_type": "markdown",
   "metadata": {},
   "source": [
    "That was boring. The state vector is just constant. Let's add some angular velocity."
   ]
  },
  {
   "cell_type": "code",
   "execution_count": null,
   "metadata": {},
   "outputs": [],
   "source": [
    "#set a new angular velocity of body frame relative to inertial\n",
    "new_state = adyn._state\n",
    "new_state[4:7] = [30, 0, -10] #rad/s\n",
    "adyn.set_state(new_state)\n",
    "\n",
    "#start index\n",
    "nstart = adyn.arr_size\n",
    "\n",
    "#first run the kernel for 1 second\n",
    "#recall the timestep is 0.001\n",
    "kernel.advance(1)\n",
    "\n",
    "#plot only 1000 values\n",
    "n = nstart + 1000\n",
    "\n",
    "objs = plt.plot(adyn.state_array[nstart:n,0:4])\n",
    "plt.title(\"Quaternion Elements\")\n",
    "plt.legend(iter(objs), ('q0', 'q1', 'q2', 'q3'))\n",
    "plt.show()\n",
    "\n",
    "objs = plt.plot(adyn.state_array[nstart:n,4:7])\n",
    "plt.title(\"Angular Rates\")\n",
    "plt.legend(iter(objs), ('w1', 'w2', 'w3'))\n",
    "plt.show()"
   ]
  },
  {
   "cell_type": "markdown",
   "metadata": {},
   "source": [
    "## Environment Vector: Sun Vector in ECI and BODY frames"
   ]
  },
  {
   "cell_type": "code",
   "execution_count": null,
   "metadata": {},
   "outputs": [],
   "source": [
    "#the sun vector is obtained from orbital information , so it is contained in the orbit dynamics model\n",
    "\n",
    "#odyn returns the sun vector in units of au\n",
    "\n",
    "#get sun vector in eci frame\n",
    "sun_vec_eci: np.ndarray = odyn.calculate_sun_vector()\n",
    "print('sun vec eci', sun_vec_eci)\n",
    "\n",
    "#convert to body frame (to use as a sensor input for example)\n",
    "sun_vec_body: np.ndarray = kernel.body_frame.transform_vector_from_frame(sun_vec_eci, kernel.eci_frame)\n",
    "print('sun vec body', sun_vec_body)\n",
    "\n",
    "#they should have the same magnitude\n",
    "print(f'|sun_vec_eci| == |sun_vec_body| is {np.linalg.norm(sun_vec_body) == np.linalg.norm(sun_vec_eci)}')"
   ]
  }
 ],
 "metadata": {
  "kernelspec": {
   "display_name": "aleasim-uAL0RtV1",
   "language": "python",
   "name": "python3"
  },
  "language_info": {
   "codemirror_mode": {
    "name": "ipython",
    "version": 3
   },
   "file_extension": ".py",
   "mimetype": "text/x-python",
   "name": "python",
   "nbconvert_exporter": "python",
   "pygments_lexer": "ipython3",
   "version": "3.10.8"
  }
 },
 "nbformat": 4,
 "nbformat_minor": 2
}
