{
 "cells": [
  {
   "cell_type": "markdown",
   "id": "3c044e37",
   "metadata": {},
   "source": [
    "## Reaction wheel static and dynamic imbalance demo ##"
   ]
  },
  {
   "cell_type": "markdown",
   "id": "a12371bb",
   "metadata": {},
   "source": [
    "### Documentation\n",
    "\n",
    "#### Reaction wheel frames\n",
    "\n",
    "The current implementation introduces a reaction wheel static frame and a reaction wheel spin frame with both frames' +z pointing in the same direction as spin axis in body frame, and +x, +y orthogonal to the +z basis vector solved using the Gram-Schmidt process. Both frames are orthonomal. To define the static frame, we let,\\\n",
    "$u_1 = v_w$\\\n",
    "where $v_w$ is the normalized spin axis in body frame. Then we have two vectors defined to be used in the Gram-Schmidt process,\\\n",
    "$v_1 = \\begin{pmatrix}0\\\\0\\\\1\\end{pmatrix}$\\\n",
    "$v_2 = \\begin{pmatrix}1\\\\0\\\\0\\end{pmatrix}$\\\n",
    "if $v_w$ is collinear with $v_1$, then $v_2$ is used in the projection,\\\n",
    "$u_2 = v_2 - \\frac{v_2\\cdot u_1}{u_1\\cdot u_1}u_1$\\\n",
    "which then simplifies to,\\\n",
    "$u_2 = v_2 - (v_2\\cdot u_1)u_1$\\\n",
    "otherwise $v_1$ is used,\\\n",
    "$u_2 = v_1 - (v1\\cdot u_1)u_1$\\\n",
    "$u_2$ is then normalized. The third basis vector is solved for using,\\\n",
    "$u_3 = u_1 \\times u_2$\\\n",
    "$u_1$, $u_2$ and $u_3$ then forms the static frame basis,\\\n",
    "$W = \\{u_1,u_2,u_3\\}$\\\n",
    "The reaction wheel spin frame is defined to be the static frame rotated by the reaction wheel angle about the +z axis.\n",
    "\n",
    "#### Static imbalance\n",
    "The static imbalance force vector is modeled using the spin frame and points along the +x axis,\\\n",
    "$\\vec{F_{s,spin}} = U_s\\omega^2\\hat{x}$\\\n",
    "where $U_s$ represents the static imbalance coefficient, $\\omega$ represents the angular velocity of the reaction wheel, and $\\hat{x}$ represents the unit vector that rotates with the reaction wheel. To tranform to the body frame, two transformations were applied: a transformation is applied first to get to the reaction wheel static frame,\\\n",
    "$\\vec{F_{s,static}} = R\\vec{F_{s,spin}}$\\\n",
    "where R represents the transformation between the reaction wheel spin frame and the static frame. A transformation is then applied to get from the static frame to the body frame,\\\n",
    "$\\vec{F_{s,body}} = M\\vec{F_{s,static}}$\\\n",
    "Where M represents the transformation between the reaction wheel static frame and body frame. To get the torque applied by this force to the spacecraft, a lever arm is solved using the center of mass (CoM) of the spacecraft and the coordinates of the reaction wheels (coord),\\\n",
    "$\\vec{r} = \\vec{r_{coord}} - \\vec{r_{CoM}}$\\\n",
    "then the torque is solved using,\\\n",
    "$\\vec{\\tau_{s,body}} = \\vec{r} \\times \\vec{F_{s,body}}$\n",
    "\n",
    "#### Dynamic imbalance\n",
    "The reaction wheel dynamic imbalance torque is modeled using,\\\n",
    "$\\vec{\\tau_{d,spin}} = U_d\\omega^2\\hat{x}$\\\n",
    "this is a vector pointing along +x in the reaction wheel spin frame and rotates with the wheel in the static frame. A transformation is applied to get from the reaction wheel spin frame to the static frame,\\\n",
    "$\\vec{\\tau_{d,static}} = R\\vec{\\tau_{d,spin}}$\\\n",
    "then the transformation between the spin frame and the body frame is applied to solve for the torque applied to the spacecraft,\\\n",
    "$\\vec{\\tau_{d,body}} = M\\vec{\\tau_{d,static}}$"
   ]
  },
  {
   "cell_type": "code",
   "execution_count": null,
   "id": "4d969ff4",
   "metadata": {},
   "outputs": [],
   "source": [
    "import matplotlib.pyplot as plt\n",
    "import numpy as np\n",
    "\n",
    "\n",
    "from alea.sim.kernel.kernel import AleasimKernel\n",
    "\n",
    "\n",
    "from alea.sim.kernel.root_models import AleasimRootModel\n",
    "from alea.sim.spacecraft.eps.power_system import PowerSystemModel\n",
    "from alea.sim.spacecraft.eps.solar_panel import SolarPanelModel\n",
    "from alea.sim.epa.attitude_dynamics import AttitudeDynamicsModel\n",
    "from alea.sim.epa.orbit_dynamics import OrbitDynamicsModel\n",
    "from alea.sim.spacecraft.spacecraft import Spacecraft\n",
    "\n",
    "from skyfield.api import utc\n",
    "import datetime"
   ]
  },
  {
   "cell_type": "markdown",
   "id": "d160195d",
   "metadata": {},
   "source": [
    "### Setup and running the simulation"
   ]
  },
  {
   "cell_type": "code",
   "execution_count": null,
   "id": "9f58a2a7",
   "metadata": {},
   "outputs": [],
   "source": [
    "#Change date here\n",
    "kernel = AleasimKernel(dt=0.01,date=datetime.datetime(2024, 5, 17, tzinfo=utc))\n",
    "\n",
    "#setting up kernel\n",
    "root = AleasimRootModel(kernel)\n",
    "kernel.add_model(root)\n",
    "\n",
    "\n",
    "adyn:AttitudeDynamicsModel = kernel.get_model(AttitudeDynamicsModel)\n",
    "odyn:OrbitDynamicsModel = kernel.get_model(OrbitDynamicsModel)\n",
    "sc:Spacecraft = kernel.get_model(Spacecraft)\n",
    "#change attitue dynamic state array here\n",
    "adyn.set_state(np.array([0.0,1.0,0.0,0.0,0.0,0.0,0.0]))\n",
    "\n",
    "#setting up reaction wheels and magnetorquers\n",
    "rwx, rwy, rwz = sc.aocs._rws\n",
    "mtqx, mtqy, mtqz =  sc.aocs._mtqs\n",
    "\n",
    "\n",
    "mag_sens = sc.aocs._mag_sens\n",
    "sun_sens = sc.aocs._sun_sens\n",
    "gyro = sc.aocs._gyro_sens\n",
    "\n",
    "\n",
    "power_sys = PowerSystemModel(kernel)\n",
    "kernel.add_model(power_sys)\n",
    "\n",
    "\n",
    "solar_panels: list[SolarPanelModel] = power_sys.solar_panels\n",
    "eps = power_sys.eps\n",
    "\n",
    "\n",
    "eps._force_state_of_charge(50)\n",
    "\n",
    "#setting the AOCS mode to nadir pointing\n",
    "kernel.advance_n(2)\n",
    "sc.aocs.set_mode(sc.aocs.AOCSMode.POINTING_CAMERA_NADIR)\n",
    "\n",
    "#running the simulation\n",
    "kernel.advance(125)"
   ]
  },
  {
   "cell_type": "markdown",
   "id": "f4ca3c61",
   "metadata": {},
   "source": [
    "### Plots\n",
    "#### Spacecraft attitude dynamic plots"
   ]
  },
  {
   "cell_type": "code",
   "execution_count": null,
   "id": "50f4a73b",
   "metadata": {},
   "outputs": [],
   "source": [
    "objs = plt.plot(adyn.time_array, adyn.state_array[:,0:4])\n",
    "plt.title(\"Spacecraft Quaternions\")\n",
    "plt.legend(iter(objs),('q0','q1','q2','q3'))\n",
    "plt.ylabel(\"Quaternions\")\n",
    "plt.xlabel(\"Time (s)\")\n",
    "plt.show()\n",
    "\n",
    "objs = plt.plot(adyn.time_array, adyn.state_array[:,4:7])\n",
    "plt.title(\"Spacecraft Angular Velocities\")\n",
    "plt.legend(iter(objs),('w_x','w_y','w_z'))\n",
    "plt.ylabel(\"Angular velocity (rad/s)\")\n",
    "plt.xlabel(\"Time (s)\")\n",
    "plt.show()"
   ]
  },
  {
   "cell_type": "markdown",
   "id": "06ff7366",
   "metadata": {},
   "source": [
    "#### Dynamic Imbalance plots"
   ]
  },
  {
   "cell_type": "code",
   "execution_count": null,
   "id": "6301df50",
   "metadata": {},
   "outputs": [],
   "source": [
    "plt.title(\"Reaction wheel dynamic imbalance torque magnitudes\")\n",
    "plt.plot(rwx.time_array, rwx.state_array[:,11])\n",
    "plt.plot(rwy.time_array, rwy.state_array[:,11])\n",
    "plt.plot(rwz.time_array, rwz.state_array[:,11])\n",
    "plt.legend(('rw_x','rw_y','rw_z'))\n",
    "plt.xlabel(\"Time(s)\")\n",
    "plt.ylabel(\"Torque (N*m)\")\n",
    "plt.show()\n",
    "\n",
    "plt.title(\"Reaction wheel angular velocities\")\n",
    "plt.plot(rwx.time_array, rwx.state_array[:,5])\n",
    "plt.plot(rwy.time_array, rwy.state_array[:,5])\n",
    "plt.plot(rwz.time_array, rwz.state_array[:,5])\n",
    "plt.legend(('rw_x','rw_y','rw_z'))\n",
    "plt.xlabel(\"Time (s)\")\n",
    "plt.ylabel(\"Angular velocities (rad/s)\")\n",
    "plt.show()\n",
    "\n",
    "plt.title(\"Reaction wheel rotation angle\")\n",
    "plt.plot(rwx.time_array, rwx.state_array[:,9])\n",
    "plt.plot(rwy.time_array, rwy.state_array[:,9])\n",
    "plt.plot(rwz.time_array, rwz.state_array[:,9])\n",
    "plt.legend(('rw_x','rw_y','rw_z'))\n",
    "plt.xlabel(\"Time (s)\")\n",
    "plt.ylabel(\"Angle (rad)\")\n",
    "plt.show()"
   ]
  },
  {
   "cell_type": "markdown",
   "id": "8f224ee2",
   "metadata": {},
   "source": [
    "#### Static imbalance plots"
   ]
  },
  {
   "cell_type": "code",
   "execution_count": null,
   "id": "99877eeb",
   "metadata": {},
   "outputs": [],
   "source": [
    "plt.title(\"Reaction wheel static imbalance torque magnitudes\")\n",
    "plt.plot(rwx.time_array, rwx.state_array[:,10])\n",
    "plt.plot(rwy.time_array, rwy.state_array[:,10])\n",
    "plt.plot(rwz.time_array, rwz.state_array[:,10])\n",
    "plt.legend(('rw_x','rw_y','rw_z'))\n",
    "plt.xlabel(\"Time(s)\")\n",
    "plt.ylabel(\"Torque (N*m)\")\n",
    "plt.show()\n",
    "\n",
    "plt.title(\"Reaction wheel angular velocities\")\n",
    "plt.plot(rwx.time_array, rwx.state_array[:,5])\n",
    "plt.plot(rwy.time_array, rwy.state_array[:,5])\n",
    "plt.plot(rwz.time_array, rwz.state_array[:,5])\n",
    "plt.legend(('rw_x','rw_y','rw_z'))\n",
    "plt.xlabel(\"Time (s)\")\n",
    "plt.ylabel(\"Angular velocities (rad/s)\")\n",
    "plt.show()"
   ]
  },
  {
   "cell_type": "markdown",
   "id": "45f7cc4b",
   "metadata": {},
   "source": [
    "#### Net disturbalance torques plots and reaction wheel torques"
   ]
  },
  {
   "cell_type": "code",
   "execution_count": null,
   "id": "f5d8ac9e",
   "metadata": {},
   "outputs": [],
   "source": [
    "plt.title(\"Reaction wheel torque magnitudes\")\n",
    "plt.plot(rwx.time_array, rwx.state_array[:,0])\n",
    "plt.plot(rwy.time_array, rwy.state_array[:,0])\n",
    "plt.plot(rwz.time_array, rwz.state_array[:,0])\n",
    "plt.legend(('rw_x','rw_y','rw_z'))\n",
    "plt.xlabel(\"Time(s)\")\n",
    "plt.ylabel(\"Torque (N*m)\")\n",
    "plt.show()\n",
    "\n",
    "plt.title(\"Net reaction wheel disturbalance torques\")\n",
    "objs = plt.plot(adyn.time_array, adyn.state_array[:,10:13])\n",
    "plt.legend(iter(objs),('tau_x','tau_y','tau_z'))\n",
    "plt.xlabel(\"Time (s)\")\n",
    "plt.ylabel(\"Torque (N*m)\")\n",
    "plt.show()\n",
    "\n",
    "plt.title(\"Net disturbalance torques\")\n",
    "objs = plt.plot(adyn.time_array, adyn.state_array[:,13:16])\n",
    "plt.legend(iter(objs),('tau_x','tau_y','tau_z'))\n",
    "plt.xlabel(\"Time (s)\")\n",
    "plt.ylabel(\"Torque (N*m)\")\n",
    "plt.show()"
   ]
  },
  {
   "cell_type": "markdown",
   "id": "0a35e61e",
   "metadata": {},
   "source": [
    "#### AOCS performance plots"
   ]
  },
  {
   "cell_type": "code",
   "execution_count": null,
   "id": "b652cbed",
   "metadata": {},
   "outputs": [],
   "source": [
    "aocs = sc.aocs\n",
    "\n",
    "objs = plt.plot(aocs.time_array, aocs.state_array[:,8:11])\n",
    "plt.legend(iter(objs), aocs.saved_state_element_names[8:11])\n",
    "plt.title(\"Absolute Knowledge Error\")\n",
    "plt.xlabel('Time (s)')\n",
    "plt.ylabel('degrees')\n",
    "plt.show()\n",
    "\n",
    "objs = plt.plot(aocs.time_array, aocs.state_array[:,11:14])\n",
    "plt.legend(iter(objs), aocs.saved_state_element_names[11:14])\n",
    "plt.title(\"Absolute Pointing Error\")\n",
    "plt.xlabel('Time (s)')\n",
    "plt.ylabel('degrees')\n",
    "plt.show()"
   ]
  }
 ],
 "metadata": {
  "kernelspec": {
   "display_name": "alea-sim-py3.11",
   "language": "python",
   "name": "python3"
  },
  "language_info": {
   "codemirror_mode": {
    "name": "ipython",
    "version": 3
   },
   "file_extension": ".py",
   "mimetype": "text/x-python",
   "name": "python",
   "nbconvert_exporter": "python",
   "pygments_lexer": "ipython3",
   "version": "3.11.5"
  }
 },
 "nbformat": 4,
 "nbformat_minor": 5
}
