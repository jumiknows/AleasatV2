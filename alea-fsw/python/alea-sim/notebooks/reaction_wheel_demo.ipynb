{
 "cells": [
  {
   "cell_type": "code",
   "execution_count": null,
   "metadata": {},
   "outputs": [],
   "source": [
    "from alea.sim.kernel.kernel import AleasimKernel\n",
    "from alea.sim.spacecraft.actuators.reaction_wheel import ReactionWheelModel\n",
    "import numpy as np\n",
    "import matplotlib.pyplot as plt"
   ]
  },
  {
   "cell_type": "code",
   "execution_count": null,
   "metadata": {},
   "outputs": [],
   "source": [
    "%load_ext autoreload\n",
    "%autoreload 2\n",
    "\n",
    "kernel = AleasimKernel(1e-3)\n",
    "rw = ReactionWheelModel(kernel, 'rwx', spin_axis_body=np.array([1.0,0.0,0.0]))\n",
    "kernel.add_model(rw)\n",
    "\n",
    "rw.power_on()\n",
    "\n",
    "kernel.advance(5)\n",
    "rw.set_torque_command(1e-3)\n",
    "\n",
    "kernel.advance(15)\n",
    "kernel.kill()"
   ]
  },
  {
   "cell_type": "code",
   "execution_count": null,
   "metadata": {},
   "outputs": [],
   "source": [
    "#['torque_rw', 'torque_cmd_rw', 'torque_cmd_no_delay_rw', 'acceleration_rw', 'friction_torque_rw', 'velocity_rw', 'momentum_rw', 'current_rw', 'power_rw']\n",
    "\n",
    "#plot torque and torque command\n",
    "axs = plt.plot(rw.time_array,rw.state_array[:, 0:3])\n",
    "plt.legend(iter(axs), tuple(rw.saved_state_element_names[0:3]))\n",
    "plt.title(\"Wheel Torque\")\n",
    "plt.ylabel('Torque [Nm]')\n",
    "plt.xlabel('Time (s)')\n",
    "plt.show()\n",
    "\n",
    "plt.plot(rw.time_array,rw.state_array[:,2], label=rw.saved_state_element_names[3])\n",
    "plt.title(\"Wheel Acceleration\")\n",
    "plt.ylabel('Accel [rad/s^2]')\n",
    "plt.xlabel('Time (s)')\n",
    "plt.show()\n",
    "\n",
    "\n",
    "plt.plot(rw.time_array,rw.state_array[:,4], label=rw.saved_state_element_names[4])\n",
    "plt.title(\"Friction Torque\")\n",
    "plt.ylabel('Torque [Nm]')\n",
    "plt.xlabel('Time (s)')\n",
    "plt.show()\n",
    "\n",
    "plt.plot(rw.time_array,rw.state_array[:,5], label=rw.saved_state_element_names[5])\n",
    "plt.title(\"Wheel Velocity\")\n",
    "plt.ylabel('Velocity [rad/s]')\n",
    "plt.xlabel('Time (s)')\n",
    "plt.show()\n",
    "\n",
    "plt.plot(rw.time_array,rw.state_array[:,7], label=rw.saved_state_element_names[7])\n",
    "plt.title(\"Wheel Current Draw\")\n",
    "plt.ylabel('Current [A]')\n",
    "plt.xlabel('Time (s)')\n",
    "plt.show()"
   ]
  }
 ],
 "metadata": {
  "kernelspec": {
   "display_name": ".venv",
   "language": "python",
   "name": "python3"
  },
  "language_info": {
   "codemirror_mode": {
    "name": "ipython",
    "version": 3
   },
   "file_extension": ".py",
   "mimetype": "text/x-python",
   "name": "python",
   "nbconvert_exporter": "python",
   "pygments_lexer": "ipython3",
   "version": "3.11.5"
  }
 },
 "nbformat": 4,
 "nbformat_minor": 2
}
