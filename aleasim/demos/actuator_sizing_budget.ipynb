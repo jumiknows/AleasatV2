{
 "cells": [
  {
   "cell_type": "code",
   "execution_count": null,
   "metadata": {},
   "outputs": [],
   "source": [
    "import numpy as np\n",
    "import scipy as sp\n",
    "\n",
    "\n",
    "M = 7.8e15 # telsa * m**3\n",
    "R = (6378e3 + 450e3) # m\n",
    "lm = 2 #worst case\n",
    "D = 0.05 #Am^2\n",
    "\n",
    "Tm = D * ((M/(R**3)) * lm)\n",
    "print(f'Worst case magnetic disturbance torque {Tm} Nm')\n",
    "\n",
    "mu = 3.986e14 # m6# / s^2\n",
    "Iy = 0.00224\n",
    "Iz = 0.00223\n",
    "\n",
    "Tg = ((3*mu) / (2 * R**3)) * np.abs(Iy-Iz)"
   ]
  },
  {
   "cell_type": "code",
   "execution_count": null,
   "metadata": {},
   "outputs": [],
   "source": [
    "R"
   ]
  }
 ],
 "metadata": {
  "kernelspec": {
   "display_name": "aleasim-uAL0RtV1",
   "language": "python",
   "name": "python3"
  },
  "language_info": {
   "codemirror_mode": {
    "name": "ipython",
    "version": 3
   },
   "file_extension": ".py",
   "mimetype": "text/x-python",
   "name": "python",
   "nbconvert_exporter": "python",
   "pygments_lexer": "ipython3",
   "version": "3.10.12"
  }
 },
 "nbformat": 4,
 "nbformat_minor": 2
}
